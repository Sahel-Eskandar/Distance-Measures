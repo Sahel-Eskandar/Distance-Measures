{
  "cells": [
    {
      "cell_type": "markdown",
      "metadata": {
        "id": "view-in-github",
        "colab_type": "text"
      },
      "source": [
        "<a href=\"https://colab.research.google.com/github/Sahel-Eskandar/Distance-Measures/blob/main/Distances.ipynb\" target=\"_parent\"><img src=\"https://colab.research.google.com/assets/colab-badge.svg\" alt=\"Open In Colab\"/></a>"
      ]
    },
    {
      "cell_type": "code",
      "source": [
        "!pip install jellyfish"
      ],
      "metadata": {
        "colab": {
          "base_uri": "https://localhost:8080/"
        },
        "id": "3uur3Q0EfVvz",
        "outputId": "d1d19c6e-2291-46e7-88a8-c5083f9a256c"
      },
      "execution_count": 2,
      "outputs": [
        {
          "output_type": "stream",
          "name": "stdout",
          "text": [
            "Looking in indexes: https://pypi.org/simple, https://us-python.pkg.dev/colab-wheels/public/simple/\n",
            "Collecting jellyfish\n",
            "  Downloading jellyfish-0.9.0.tar.gz (132 kB)\n",
            "\u001b[2K     \u001b[90m━━━━━━━━━━━━━━━━━━━━━━━━━━━━━━━━━━━━━━\u001b[0m \u001b[32m132.6/132.6 KB\u001b[0m \u001b[31m13.5 MB/s\u001b[0m eta \u001b[36m0:00:00\u001b[0m\n",
            "\u001b[?25h  Preparing metadata (setup.py) ... \u001b[?25l\u001b[?25hdone\n",
            "Building wheels for collected packages: jellyfish\n",
            "  Building wheel for jellyfish (setup.py) ... \u001b[?25l\u001b[?25hdone\n",
            "  Created wheel for jellyfish: filename=jellyfish-0.9.0-cp39-cp39-linux_x86_64.whl size=81474 sha256=21ab0fb5d8b0b0b392209abfff7cd889992acb9b9fbad2de9e6aadc46a576898\n",
            "  Stored in directory: /root/.cache/pip/wheels/a6/28/ba/284e37010e5d3aeed5e45345b58ab8683f97bdce46c9e147f9\n",
            "Successfully built jellyfish\n",
            "Installing collected packages: jellyfish\n",
            "Successfully installed jellyfish-0.9.0\n"
          ]
        }
      ]
    },
    {
      "cell_type": "code",
      "source": [
        "import numpy as np\n",
        "import jellyfish\n",
        "from scipy.spatial import distance\n",
        "from scipy.spatial.distance import cdist\n",
        "from scipy.stats import pearsonr, spearmanr, chisquare\n",
        "from scipy.spatial.distance import canberra, cosine, euclidean, minkowski, cityblock, hamming, jaccard, dice, braycurtis\n",
        "from sklearn.metrics.pairwise import paired_distances\n",
        "from scipy.special import rel_entr\n",
        "\n",
        "# Euclidean distance\n",
        "def euclidean_distance(p1, p2):\n",
        "    return np.sqrt(np.sum((p1 - p2) ** 2))\n",
        "\n",
        "# Manhattan distance\n",
        "def manhattan_distance(p1, p2):\n",
        "    return np.sum(np.abs(p1 - p2))\n",
        "\n",
        "# Cosine similarity\n",
        "def cosine_similarity(p1, p2):\n",
        "    return 1 - distance.cosine(p1, p2)\n",
        "\n",
        "# Minkowski distance\n",
        "def minkowski_distance(p1, p2, r):\n",
        "    return np.power(np.sum(np.power(np.abs(p1 - p2), r)), 1/r)\n",
        "\n",
        "# Chebyshev distance\n",
        "def chebyshev_distance(p1, p2):\n",
        "    return np.max(np.abs(p1 - p2))\n",
        "\n",
        "# Hamming distance\n",
        "def hamming_distance(s1, s2):\n",
        "    return jellyfish.hamming_distance(s1, s2)\n",
        "\n",
        "# Levenshtein distance\n",
        "def levenshtein_distance(s1, s2):\n",
        "    return jellyfish.levenshtein_distance(s1, s2)\n",
        "\n",
        "# Jaccard similarity\n",
        "def jaccard_similarity(s1, s2):\n",
        "    set1 = set(s1)\n",
        "    set2 = set(s2)\n",
        "    intersection = set1.intersection(set2)\n",
        "    union = set1.union(set2)\n",
        "    return len(intersection) / len(union)\n",
        "\n",
        "# Sørensen-Dice index\n",
        "def sorensen_dice_index(s1, s2):\n",
        "    set1 = set(s1)\n",
        "    set2 = set(s2)\n",
        "    intersection = set1.intersection(set2)\n",
        "    return (2 * len(intersection)) / (len(set1) + len(set2))\n",
        "\n",
        "# Haversine Distance\n",
        "def haversine_distance(lat1, lon1, lat2, lon2):\n",
        "    R = 6371.0 # Radius of the earth in km\n",
        "    dLat = np.deg2rad(lat2 - lat1)\n",
        "    dLon = np.deg2rad(lon2 - lon1)\n",
        "    a = np.sin(dLat / 2)**2 + np.cos(np.deg2rad(lat1)) * np.cos(np.deg2rad(lat2)) * np.sin(dLon / 2)**2\n",
        "    c = 2 * np.arctan2(np.sqrt(a), np.sqrt(1 - a))\n",
        "    return R * c\n",
        "\n",
        "# Mahalanobis distance\n",
        "def mahalanobis_distance(X, Y):\n",
        "    return cdist(X.reshape(1,-1), Y.reshape(1,-1), 'mahalanobis', VI=np.cov(X))\n",
        "\n",
        "# Pearson Correlation\n",
        "def pearson_correlation(X, Y):\n",
        "    return pearsonr(X, Y)[0]\n",
        "\n",
        "# Squared Euclidean Distance\n",
        "def squared_euclidean_distance(X, Y):\n",
        "    return euclidean(X, Y)**2\n",
        "\n",
        "# Jensen-Shannon Divergence\n",
        "def jensen_shannon_divergence(X, Y):\n",
        "    M = 0.5 * (X + Y)\n",
        "    return np.sqrt(0.5 * (rel_entr(X, M).sum() + rel_entr(Y, M).sum()))\n",
        "\n",
        "# Chi-Square Distance\n",
        "def chi_square_distance(X, Y):\n",
        "    # Normalize the arrays\n",
        "    X = X / np.sum(X)\n",
        "    Y = Y / np.sum(Y)\n",
        "    \n",
        "    # Calculate chi-square distance\n",
        "    return np.sum((X - Y) ** 2 / (X + Y))\n",
        "\n",
        "# Spearman Correlation\n",
        "def spearman_correlation(X, Y):\n",
        "    return spearmanr(X, Y)[0]\n",
        "\n",
        "# Canberra Distance\n",
        "def canberra_distance(X, Y):\n",
        "    return canberra(X, Y)\n",
        "\n",
        "# Example usage\n",
        "point1 = np.array([1, 2])\n",
        "point2 = np.array([3, 4])\n",
        "string1 = \"hello\"\n",
        "string2 = \"hallo\"\n",
        "\n",
        "print(\"Euclidean distance:\", euclidean_distance(point1, point2))\n",
        "print(\"Manhattan distance:\", manhattan_distance(point1, point2))\n",
        "print(\"Cosine similarity:\", cosine_similarity(point1, point2))\n",
        "print(\"Minkowski distance:\", minkowski_distance(point1, point2, 3))\n",
        "print(\"Chebyshev distance:\", chebyshev_distance(point1, point2))\n",
        "print(\"Hamming distance:\", hamming_distance(string1, string2))\n",
        "print(\"Levenshtein distance:\", levenshtein_distance(string1, string2))\n",
        "print(\"Jaccard similarity:\", jaccard_similarity(string1, string2))\n",
        "print(\"Sørensen-Dice index:\", sorensen_dice_index(string1, string2))\n",
        "print(\"Haversine distance:\", haversine_distance(51.5074, 0.1278, 40.7128, -74.0060))\n",
        "print(\"Mahalanobis distance:\", mahalanobis_distance(point1, point2))\n",
        "print(\"Pearson correlation:\", pearson_correlation(point1, point2))\n",
        "print(\"Squared Euclidean distance:\", squared_euclidean_distance(point1, point2))\n",
        "print(\"Jensen-Shannon divergence:\", jensen_shannon_divergence(point1, point2))\n",
        "print(\"Chi-Square distance:\", chi_square_distance(point1, point2))\n",
        "print(\"Spearman correlation:\", spearman_correlation(point1, point2))\n",
        "print(\"Canberra distance:\", canberra_distance(point1, point2))\n"
      ],
      "metadata": {
        "colab": {
          "base_uri": "https://localhost:8080/"
        },
        "id": "G-9Jmp2Ke_yo",
        "outputId": "81a0f4ea-3471-45b1-89a3-b4c7ebdf7d65"
      },
      "execution_count": 15,
      "outputs": [
        {
          "output_type": "stream",
          "name": "stdout",
          "text": [
            "Euclidean distance: 2.8284271247461903\n",
            "Manhattan distance: 4\n",
            "Cosine similarity: 0.9838699100999074\n",
            "Minkowski distance: 2.5198420997897464\n",
            "Chebyshev distance: 2\n",
            "Hamming distance: 1\n",
            "Levenshtein distance: 1\n",
            "Jaccard similarity: 0.6\n",
            "Sørensen-Dice index: 0.75\n",
            "Haversine distance: 5587.00681965736\n",
            "Mahalanobis distance: [[1.41421356]]\n",
            "Pearson correlation: 1.0\n",
            "Squared Euclidean distance: 8.000000000000002\n",
            "Jensen-Shannon divergence: 0.6569041853099059\n",
            "Chi-Square distance: 0.01923076923076923\n",
            "Spearman correlation: 0.9999999999999999\n",
            "Canberra distance: 0.8333333333333333\n"
          ]
        }
      ]
    },
    {
      "cell_type": "code",
      "source": [],
      "metadata": {
        "id": "KE_DsMPzfzk9"
      },
      "execution_count": null,
      "outputs": []
    }
  ],
  "metadata": {
    "colab": {
      "toc_visible": true,
      "provenance": [],
      "include_colab_link": true
    },
    "kernelspec": {
      "display_name": "Python 3",
      "name": "python3"
    }
  },
  "nbformat": 4,
  "nbformat_minor": 0
}